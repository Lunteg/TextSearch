{
 "cells": [
  {
   "cell_type": "code",
   "execution_count": 115,
   "metadata": {},
   "outputs": [],
   "source": [
    "from IPython.display import display\n",
    "\n",
    "# pip install ipymarkup\n",
    "from ipymarkup import show_span_ascii_markup as show_markup\n",
    "\n",
    "from yargy import (\n",
    "    Parser,\n",
    "    or_, rule,  and_\n",
    ")\n",
    "from yargy.pipelines import morph_pipeline\n",
    "from yargy.predicates import (\n",
    "    eq, in_, dictionary, gte, lte, normalized,\n",
    "    type, gram\n",
    ")\n",
    "from yargy.tokenizer import MorphTokenizer\n",
    "from yargy import interpretation as interp\n",
    "from yargy.interpretation import fact, attribute\n",
    "\n",
    "\n",
    "def show_matches(rule, *lines):\n",
    "    parser = Parser(rule)\n",
    "    for line in lines:\n",
    "        matches = parser.findall(line)\n",
    "        matches = sorted(matches, key=lambda _: _.span)\n",
    "        spans = [_.span for _ in matches]\n",
    "        show_markup(line, spans)\n",
    "        if matches:\n",
    "            facts = [_.fact for _ in matches]\n",
    "            if len(facts) == 1:\n",
    "                facts = facts[0]\n",
    "            return facts.as_json\n",
    "\n",
    "\n",
    "INT = type('INT')\n",
    "NOUN = gram('NOUN')\n",
    "ADJF = gram('ADJF')\n",
    "PRTF = gram('PRTF')\n",
    "GENT = gram('gent')\n",
    "DOT = eq('.')\n",
    "\n",
    "TOKENIZER = MorphTokenizer()"
   ]
  },
  {
   "cell_type": "code",
   "execution_count": 116,
   "metadata": {},
   "outputs": [
    {
     "name": "stdout",
     "output_type": "stream",
     "text": [
      "2015-2016\n",
      "─────────\n"
     ]
    },
    {
     "data": {
      "text/plain": [
       "OrderedDict([('start', OrderedDict([('year', 2015)])),\n",
       "             ('stop', OrderedDict([('year', 2016)]))])"
      ]
     },
     "execution_count": 116,
     "metadata": {},
     "output_type": "execute_result"
    }
   ],
   "source": [
    "Year = fact(\n",
    "    'Year',\n",
    "    ['year']\n",
    ")\n",
    "\n",
    "YEAR_VAL = and_(\n",
    "    gte(1000),\n",
    "    lte(2100)\n",
    ")\n",
    "\n",
    "YEAR_WORD = or_(\n",
    "    rule('г', eq('.').optional()),\n",
    "    rule(normalized('год'))\n",
    ")\n",
    "\n",
    "YEAR = rule(\n",
    "    YEAR_VAL.interpretation(\n",
    "        Year.year.custom(int)\n",
    "    ),\n",
    "    YEAR_WORD.optional(),\n",
    ").interpretation(\n",
    "    Year\n",
    ")\n",
    "\n",
    "Year_range = fact(\n",
    "    'Year_range',\n",
    "    ['start', 'stop']\n",
    ")\n",
    "\n",
    "YEAR_DELIMETOR_BEFORE = morph_pipeline([\n",
    "    'с',\n",
    "    'от'\n",
    "])\n",
    "\n",
    "YEAR_DELIMETOR_UNDER = morph_pipeline([\n",
    "    '-',\n",
    "    'по',\n",
    "    'до'\n",
    "])\n",
    "\n",
    "\n",
    "YEAR_RANGE = rule(\n",
    "    YEAR_DELIMETOR_BEFORE.optional(),\n",
    "    YEAR.interpretation(\n",
    "        Year_range.start\n",
    "    ),\n",
    "    YEAR_DELIMETOR_UNDER.optional(),\n",
    "    YEAR.optional()\n",
    "        .interpretation(\n",
    "            Year_range.stop\n",
    "    )\n",
    "\n",
    ").interpretation(\n",
    "    Year_range\n",
    ")\n",
    "\n",
    "js = show_matches(\n",
    "    YEAR_RANGE,\n",
    "    '2015-2016',\n",
    "    '2014 года',\n",
    "    '2020 год'\n",
    ")\n",
    "js"
   ]
  },
  {
   "cell_type": "code",
   "execution_count": null,
   "metadata": {},
   "outputs": [],
   "source": []
  }
 ],
 "metadata": {
  "kernelspec": {
   "display_name": "Python 3.10.8 ('.venv': venv)",
   "language": "python",
   "name": "python3"
  },
  "language_info": {
   "codemirror_mode": {
    "name": "ipython",
    "version": 3
   },
   "file_extension": ".py",
   "mimetype": "text/x-python",
   "name": "python",
   "nbconvert_exporter": "python",
   "pygments_lexer": "ipython3",
   "version": "3.10.9"
  },
  "orig_nbformat": 4,
  "vscode": {
   "interpreter": {
    "hash": "b5669233a181d17f0b6593895d2e2a3139b2007bab37ee6147a0bb413e985960"
   }
  }
 },
 "nbformat": 4,
 "nbformat_minor": 2
}
