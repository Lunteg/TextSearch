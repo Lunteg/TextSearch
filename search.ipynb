{
 "cells": [
  {
   "cell_type": "code",
   "execution_count": 1,
   "metadata": {},
   "outputs": [
    {
     "data": {
      "text/plain": [
       "{'name': '7fba0a254f81',\n",
       " 'cluster_name': 'docker-cluster',\n",
       " 'cluster_uuid': 'xAcaqhoHQ8Ov9uhO43-XKQ',\n",
       " 'version': {'number': '8.3.3',\n",
       "  'build_flavor': 'default',\n",
       "  'build_type': 'docker',\n",
       "  'build_hash': '801fed82df74dbe537f89b71b098ccaff88d2c56',\n",
       "  'build_date': '2022-07-23T19:30:09.227964828Z',\n",
       "  'build_snapshot': False,\n",
       "  'lucene_version': '9.2.0',\n",
       "  'minimum_wire_compatibility_version': '7.17.0',\n",
       "  'minimum_index_compatibility_version': '7.0.0'},\n",
       " 'tagline': 'You Know, for Search'}"
      ]
     },
     "execution_count": 1,
     "metadata": {},
     "output_type": "execute_result"
    }
   ],
   "source": [
    "from elasticsearch import Elasticsearch\n",
    "import numpy as np\n",
    "import pandas as pd\n",
    "from elasticsearch import Elasticsearch\n",
    "\n",
    "es = Elasticsearch(\"http://localhost:9200\")\n",
    "es.info().body"
   ]
  },
  {
   "cell_type": "code",
   "execution_count": 2,
   "metadata": {},
   "outputs": [
    {
     "data": {
      "text/html": [
       "<div>\n",
       "<style scoped>\n",
       "    .dataframe tbody tr th:only-of-type {\n",
       "        vertical-align: middle;\n",
       "    }\n",
       "\n",
       "    .dataframe tbody tr th {\n",
       "        vertical-align: top;\n",
       "    }\n",
       "\n",
       "    .dataframe thead th {\n",
       "        text-align: right;\n",
       "    }\n",
       "</style>\n",
       "<table border=\"1\" class=\"dataframe\">\n",
       "  <thead>\n",
       "    <tr style=\"text-align: right;\">\n",
       "      <th></th>\n",
       "      <th>Unnamed: 0</th>\n",
       "      <th>link</th>\n",
       "      <th>eng_name</th>\n",
       "      <th>rus_name</th>\n",
       "      <th>year</th>\n",
       "      <th>duration</th>\n",
       "      <th>country</th>\n",
       "      <th>genre</th>\n",
       "      <th>director_name</th>\n",
       "      <th>rating</th>\n",
       "    </tr>\n",
       "  </thead>\n",
       "  <tbody>\n",
       "    <tr>\n",
       "      <th>0</th>\n",
       "      <td>0</td>\n",
       "      <td>https://www.kinopoisk.ru/film/1249172/</td>\n",
       "      <td>NaN</td>\n",
       "      <td>Последний богатырь: Корень зла</td>\n",
       "      <td>2020.0</td>\n",
       "      <td>121.0</td>\n",
       "      <td>Россия</td>\n",
       "      <td>фэнтези</td>\n",
       "      <td>Дмитрий Дьяченко</td>\n",
       "      <td>NaN</td>\n",
       "    </tr>\n",
       "    <tr>\n",
       "      <th>1</th>\n",
       "      <td>1</td>\n",
       "      <td>https://www.kinopoisk.ru/film/8366/</td>\n",
       "      <td>The Thing</td>\n",
       "      <td>Нечто</td>\n",
       "      <td>1982.0</td>\n",
       "      <td>109.0</td>\n",
       "      <td>США</td>\n",
       "      <td>ужасы</td>\n",
       "      <td>Джон Карпентер</td>\n",
       "      <td>7.9</td>\n",
       "    </tr>\n",
       "    <tr>\n",
       "      <th>2</th>\n",
       "      <td>2</td>\n",
       "      <td>https://www.kinopoisk.ru/film/79850/</td>\n",
       "      <td>NaN</td>\n",
       "      <td>Ночной дозор</td>\n",
       "      <td>2004.0</td>\n",
       "      <td>115.0</td>\n",
       "      <td>Россия</td>\n",
       "      <td>фэнтези</td>\n",
       "      <td>Тимур Бекмамбетов</td>\n",
       "      <td>NaN</td>\n",
       "    </tr>\n",
       "    <tr>\n",
       "      <th>3</th>\n",
       "      <td>3</td>\n",
       "      <td>https://www.kinopoisk.ru/film/8151/</td>\n",
       "      <td>Interview with the Vampire: The Vampire Chroni...</td>\n",
       "      <td>Интервью с вампиром</td>\n",
       "      <td>1994.0</td>\n",
       "      <td>123.0</td>\n",
       "      <td>США</td>\n",
       "      <td>драма</td>\n",
       "      <td>Нил Джордан</td>\n",
       "      <td>8.0</td>\n",
       "    </tr>\n",
       "    <tr>\n",
       "      <th>4</th>\n",
       "      <td>4</td>\n",
       "      <td>https://www.kinopoisk.ru/film/4322004/</td>\n",
       "      <td>NaN</td>\n",
       "      <td>Плакать нельзя</td>\n",
       "      <td>2022.0</td>\n",
       "      <td>125.0</td>\n",
       "      <td>Россия</td>\n",
       "      <td>триллер</td>\n",
       "      <td>Наталья Назарова</td>\n",
       "      <td>NaN</td>\n",
       "    </tr>\n",
       "  </tbody>\n",
       "</table>\n",
       "</div>"
      ],
      "text/plain": [
       "   Unnamed: 0                                    link  \\\n",
       "0           0  https://www.kinopoisk.ru/film/1249172/   \n",
       "1           1     https://www.kinopoisk.ru/film/8366/   \n",
       "2           2    https://www.kinopoisk.ru/film/79850/   \n",
       "3           3     https://www.kinopoisk.ru/film/8151/   \n",
       "4           4  https://www.kinopoisk.ru/film/4322004/   \n",
       "\n",
       "                                            eng_name  \\\n",
       "0                                                NaN   \n",
       "1                                          The Thing   \n",
       "2                                                NaN   \n",
       "3  Interview with the Vampire: The Vampire Chroni...   \n",
       "4                                                NaN   \n",
       "\n",
       "                         rus_name    year  duration country    genre  \\\n",
       "0  Последний богатырь: Корень зла  2020.0     121.0  Россия  фэнтези   \n",
       "1                           Нечто  1982.0     109.0     США    ужасы   \n",
       "2                    Ночной дозор  2004.0     115.0  Россия  фэнтези   \n",
       "3             Интервью с вампиром  1994.0     123.0     США    драма   \n",
       "4                  Плакать нельзя  2022.0     125.0  Россия  триллер   \n",
       "\n",
       "       director_name  rating  \n",
       "0   Дмитрий Дьяченко     NaN  \n",
       "1     Джон Карпентер     7.9  \n",
       "2  Тимур Бекмамбетов     NaN  \n",
       "3        Нил Джордан     8.0  \n",
       "4   Наталья Назарова     NaN  "
      ]
     },
     "execution_count": 2,
     "metadata": {},
     "output_type": "execute_result"
    }
   ],
   "source": [
    "df = pd.read_csv('kinopoisk4.csv', sep=\";\")\n",
    "df.head()"
   ]
  },
  {
   "cell_type": "code",
   "execution_count": 3,
   "metadata": {},
   "outputs": [],
   "source": [
    "df[['year', 'duration']] = df[['year', 'duration']].fillna(0)\n",
    "df[['year', 'duration']] = df[['year', 'duration']].astype(int)\n",
    "df[['link', 'eng_name', 'rus_name', 'country', 'genre', 'director_name']] = df[['link', 'eng_name', 'rus_name', 'country', 'genre', 'director_name']].fillna(\"nan\")\n",
    "df[['link', 'eng_name', 'rus_name', 'country', 'genre', 'director_name']] = df[['link', 'eng_name', 'rus_name', 'country', 'genre', 'director_name']].astype(str)\n",
    "df[['rating']] = df[['rating']].fillna(-1.0)"
   ]
  },
  {
   "cell_type": "code",
   "execution_count": 22,
   "metadata": {},
   "outputs": [
    {
     "data": {
      "text/plain": [
       "ObjectApiResponse({'error': {'root_cause': [{'type': 'index_not_found_exception', 'reason': 'no such index [movies]', 'resource.type': 'index_or_alias', 'resource.id': 'movies', 'index_uuid': '_na_', 'index': 'movies'}], 'type': 'index_not_found_exception', 'reason': 'no such index [movies]', 'resource.type': 'index_or_alias', 'resource.id': 'movies', 'index_uuid': '_na_', 'index': 'movies'}, 'status': 404})"
      ]
     },
     "execution_count": 22,
     "metadata": {},
     "output_type": "execute_result"
    }
   ],
   "source": [
    "es.options(ignore_status=[400,404]).indices.delete(index='movies')"
   ]
  },
  {
   "cell_type": "code",
   "execution_count": 25,
   "metadata": {},
   "outputs": [
    {
     "data": {
      "text/plain": [
       "ObjectApiResponse({'acknowledged': True, 'shards_acknowledged': True, 'index': 'movies'})"
      ]
     },
     "execution_count": 25,
     "metadata": {},
     "output_type": "execute_result"
    }
   ],
   "source": [
    "mappings = {\n",
    "        \"properties\": {\n",
    "            \"link\": {\"type\": \"keyword\"},\n",
    "            \"eng_name\": {\"type\": \"text\", \"analyzer\": \"english\"},\n",
    "            \"rus_name\": {\"type\": \"text\", \"analyzer\": \"russian\", \"search_analyzer\": \"custom_search_analyzer\", \"analyzer\": \"custom_search_analyzer\"},\n",
    "            \"year\": {\"type\": \"integer\"},\n",
    "            \"duration\": {\"type\": \"integer\"},\n",
    "            \"country\": {\"type\": \"text\", \"analyzer\": \"russian\"},\n",
    "            \"genre\": {\"type\": \"text\", \"analyzer\": \"russian\"},\n",
    "            \"director_name\": {\"type\": \"text\", \"analyzer\": \"russian\"},\n",
    "            \"rating\": {\"type\": \"float\"}\n",
    "    }\n",
    "}\n",
    "\n",
    "settings = {\n",
    "    \"analysis\": {\n",
    "      \"filter\": {\n",
    "         \"synonym_filter\": {\n",
    "            \"type\": \"synonym\",\n",
    "            \"synonyms\": [\n",
    "                \"дары, подарки, Дары, Подарки\"\n",
    "            ]\n",
    "         },\n",
    "        \"ru_stemmer\": {\n",
    "          \"type\": \"stemmer\",\n",
    "          \"language\": \"russian\"\n",
    "        }\n",
    "      },\n",
    "      \"analyzer\":{\n",
    "         \"custom_search_analyzer\": {\n",
    "            \"tokenizer\": \"standard\",\n",
    "            \"filter\": [\n",
    "               \"lowercase\",\n",
    "               \"synonym_filter\",\n",
    "               \"ru_stemmer\"\n",
    "            ]\n",
    "            }\n",
    "      }\n",
    "    }\n",
    "  }\n",
    "\n",
    "es.indices.create(index=\"movies\", settings = settings, mappings=mappings)"
   ]
  },
  {
   "cell_type": "code",
   "execution_count": 26,
   "metadata": {},
   "outputs": [
    {
     "data": {
      "text/plain": [
       "(1000, [])"
      ]
     },
     "execution_count": 26,
     "metadata": {},
     "output_type": "execute_result"
    }
   ],
   "source": [
    "from elasticsearch.helpers import bulk\n",
    "\n",
    "bulk_data = []\n",
    "for i,row in df.iterrows():\n",
    "    bulk_data.append(\n",
    "        {\n",
    "            \"_index\": \"movies\",\n",
    "            \"_id\": i,\n",
    "            \"_source\": {        \n",
    "                \"link\": row[\"link\"],\n",
    "                \"eng_name\": row[\"eng_name\"],\n",
    "                \"rus_name\": row[\"rus_name\"],\n",
    "                \"year\": row[\"year\"],\n",
    "                \"duration\": row[\"duration\"],\n",
    "                \"country\": row[\"country\"],\n",
    "                \"genre\": row[\"genre\"],\n",
    "                \"director_name\": row[\"director_name\"],\n",
    "                \"rating\": row[\"rating\"],\n",
    "            }\n",
    "        }\n",
    "    )\n",
    "bulk(es, bulk_data)"
   ]
  },
  {
   "cell_type": "code",
   "execution_count": 27,
   "metadata": {},
   "outputs": [
    {
     "data": {
      "text/plain": [
       "ListApiResponse([{'epoch': '1670354623', 'timestamp': '19:23:43', 'count': '1000'}])"
      ]
     },
     "execution_count": 27,
     "metadata": {},
     "output_type": "execute_result"
    }
   ],
   "source": [
    "es.indices.refresh(index=\"movies\")\n",
    "es.cat.count(index=\"movies\", format=\"json\")"
   ]
  },
  {
   "cell_type": "code",
   "execution_count": 98,
   "metadata": {},
   "outputs": [
    {
     "name": "stderr",
     "output_type": "stream",
     "text": [
      "C:\\Users\\danil\\AppData\\Local\\Temp\\ipykernel_1368\\2050907964.py:1: DeprecationWarning: The 'body' parameter is deprecated and will be removed in a future version. Instead use individual parameters.\n",
      "  q1 = es.search(\n"
     ]
    },
    {
     "data": {
      "text/plain": [
       "{'total': {'value': 0, 'relation': 'eq'}, 'max_score': None, 'hits': []}"
      ]
     },
     "execution_count": 98,
     "metadata": {},
     "output_type": "execute_result"
    }
   ],
   "source": [
    "q1 = es.search(\n",
    "    index=\"movies\",\n",
    "    body= {\n",
    "        \"query\": {\n",
    "            \"multi_match\": {\n",
    "                \"query\": 'богатырь',\n",
    "                \"fields\": [\n",
    "                    \"eng_name\",\n",
    "                    \"rus_name\",\n",
    "                    \"country\",\n",
    "                    \"genre\",\n",
    "                    \"director_name\"\n",
    "                ],\n",
    "                \"type\" : \"cross_fields\",\n",
    "                \"analyzer\" : \"russian\",\n",
    "                \"prefix_length\" : \"3\"\n",
    "            }\n",
    "        }\n",
    "    }\n",
    ")\n",
    "q1['hits']"
   ]
  },
  {
   "cell_type": "code",
   "execution_count": 96,
   "metadata": {},
   "outputs": [
    {
     "name": "stderr",
     "output_type": "stream",
     "text": [
      "C:\\Users\\danil\\AppData\\Local\\Temp\\ipykernel_1368\\2226648462.py:1: DeprecationWarning: The 'body' parameter is deprecated and will be removed in a future version. Instead use individual parameters.\n",
      "  q2 = es.search(\n"
     ]
    },
    {
     "data": {
      "text/plain": [
       "{'total': {'value': 5, 'relation': 'eq'},\n",
       " 'max_score': 1.0,\n",
       " 'hits': [{'_index': 'movies',\n",
       "   '_id': '0',\n",
       "   '_score': 1.0,\n",
       "   '_source': {'link': 'https://www.kinopoisk.ru/film/1249172/',\n",
       "    'eng_name': 'nan',\n",
       "    'rus_name': 'Последний богатырь: Корень зла',\n",
       "    'year': 2020,\n",
       "    'duration': 121,\n",
       "    'country': 'Россия',\n",
       "    'genre': 'фэнтези',\n",
       "    'director_name': 'Дмитрий Дьяченко',\n",
       "    'rating': -1.0}},\n",
       "  {'_index': 'movies',\n",
       "   '_id': '28',\n",
       "   '_score': 1.0,\n",
       "   '_source': {'link': 'https://www.kinopoisk.ru/film/4419497/',\n",
       "    'eng_name': 'nan',\n",
       "    'rus_name': 'Три богатыря и Конь на троне',\n",
       "    'year': 2021,\n",
       "    'duration': 202,\n",
       "    'country': 'Россия',\n",
       "    'genre': 'мультфильм',\n",
       "    'director_name': 'Дарина Шмидт',\n",
       "    'rating': 7.4}},\n",
       "  {'_index': 'movies',\n",
       "   '_id': '254',\n",
       "   '_score': 1.0,\n",
       "   '_source': {'link': 'https://www.kinopoisk.ru/film/1272246/',\n",
       "    'eng_name': 'nan',\n",
       "    'rus_name': 'Последний богатырь: Посланник Тьмы',\n",
       "    'year': 2021,\n",
       "    'duration': 108,\n",
       "    'country': 'Россия',\n",
       "    'genre': 'приключения',\n",
       "    'director_name': 'Дмитрий Дьяченко',\n",
       "    'rating': -1.0}},\n",
       "  {'_index': 'movies',\n",
       "   '_id': '416',\n",
       "   '_score': 1.0,\n",
       "   '_source': {'link': 'https://www.kinopoisk.ru/film/976642/',\n",
       "    'eng_name': 'nan',\n",
       "    'rus_name': 'Последний богатырь',\n",
       "    'year': 2017,\n",
       "    'duration': 114,\n",
       "    'country': 'Россия',\n",
       "    'genre': 'комедия',\n",
       "    'director_name': 'Дмитрий Дьяченко',\n",
       "    'rating': -1.0}},\n",
       "  {'_index': 'movies',\n",
       "   '_id': '742',\n",
       "   '_score': 1.0,\n",
       "   '_source': {'link': 'https://www.kinopoisk.ru/film/1249172/',\n",
       "    'eng_name': 'nan',\n",
       "    'rus_name': 'Последний богатырь: Корень зла',\n",
       "    'year': 2020,\n",
       "    'duration': 121,\n",
       "    'country': 'Россия',\n",
       "    'genre': 'фэнтези',\n",
       "    'director_name': 'Дмитрий Дьяченко',\n",
       "    'rating': -1.0}}]}"
      ]
     },
     "execution_count": 96,
     "metadata": {},
     "output_type": "execute_result"
    }
   ],
   "source": [
    "q2 = es.search(\n",
    "    index = \"movies\",\n",
    "    body = {\n",
    "      \"query\": {\n",
    "        \"wildcard\": {\n",
    "          \"rus_name\": {\n",
    "            \"value\": '*' + \"богаты**\",\n",
    "            \"boost\": 1.0,\n",
    "            \"rewrite\": \"constant_score\"\n",
    "          }\n",
    "        },\n",
    "      }\n",
    "    }\n",
    ")\n",
    "q2['hits']"
   ]
  },
  {
   "cell_type": "code",
   "execution_count": 89,
   "metadata": {},
   "outputs": [
    {
     "name": "stderr",
     "output_type": "stream",
     "text": [
      "C:\\Users\\danil\\AppData\\Local\\Temp\\ipykernel_1368\\156127524.py:1: DeprecationWarning: The 'body' parameter is deprecated and will be removed in a future version. Instead use individual parameters.\n",
      "  q3 = es.search(\n"
     ]
    },
    {
     "data": {
      "text/plain": [
       "{'total': {'value': 5, 'relation': 'eq'},\n",
       " 'max_score': 3.7838197,\n",
       " 'hits': [{'_index': 'movies',\n",
       "   '_id': '416',\n",
       "   '_score': 3.7838197,\n",
       "   '_source': {'link': 'https://www.kinopoisk.ru/film/976642/',\n",
       "    'eng_name': 'nan',\n",
       "    'rus_name': 'Последний богатырь',\n",
       "    'year': 2017,\n",
       "    'duration': 114,\n",
       "    'country': 'Россия',\n",
       "    'genre': 'комедия',\n",
       "    'director_name': 'Дмитрий Дьяченко',\n",
       "    'rating': -1.0}},\n",
       "  {'_index': 'movies',\n",
       "   '_id': '28',\n",
       "   '_score': 3.1494408,\n",
       "   '_source': {'link': 'https://www.kinopoisk.ru/film/4419497/',\n",
       "    'eng_name': 'nan',\n",
       "    'rus_name': 'Три богатыря и Конь на троне',\n",
       "    'year': 2021,\n",
       "    'duration': 202,\n",
       "    'country': 'Россия',\n",
       "    'genre': 'мультфильм',\n",
       "    'director_name': 'Дарина Шмидт',\n",
       "    'rating': 7.4}},\n",
       "  {'_index': 'movies',\n",
       "   '_id': '0',\n",
       "   '_score': 2.6972342,\n",
       "   '_source': {'link': 'https://www.kinopoisk.ru/film/1249172/',\n",
       "    'eng_name': 'nan',\n",
       "    'rus_name': 'Последний богатырь: Корень зла',\n",
       "    'year': 2020,\n",
       "    'duration': 121,\n",
       "    'country': 'Россия',\n",
       "    'genre': 'фэнтези',\n",
       "    'director_name': 'Дмитрий Дьяченко',\n",
       "    'rating': -1.0}},\n",
       "  {'_index': 'movies',\n",
       "   '_id': '254',\n",
       "   '_score': 2.6972342,\n",
       "   '_source': {'link': 'https://www.kinopoisk.ru/film/1272246/',\n",
       "    'eng_name': 'nan',\n",
       "    'rus_name': 'Последний богатырь: Посланник Тьмы',\n",
       "    'year': 2021,\n",
       "    'duration': 108,\n",
       "    'country': 'Россия',\n",
       "    'genre': 'приключения',\n",
       "    'director_name': 'Дмитрий Дьяченко',\n",
       "    'rating': -1.0}},\n",
       "  {'_index': 'movies',\n",
       "   '_id': '742',\n",
       "   '_score': 2.6972342,\n",
       "   '_source': {'link': 'https://www.kinopoisk.ru/film/1249172/',\n",
       "    'eng_name': 'nan',\n",
       "    'rus_name': 'Последний богатырь: Корень зла',\n",
       "    'year': 2020,\n",
       "    'duration': 121,\n",
       "    'country': 'Россия',\n",
       "    'genre': 'фэнтези',\n",
       "    'director_name': 'Дмитрий Дьяченко',\n",
       "    'rating': -1.0}}]}"
      ]
     },
     "execution_count": 89,
     "metadata": {},
     "output_type": "execute_result"
    }
   ],
   "source": [
    "q3 = es.search(\n",
    "    index =  'movies',\n",
    "    body = {\n",
    "      \"query\": {\n",
    "        \"bool\": {\n",
    "          \"should\": [\n",
    "            {\n",
    "              \"wildcard\": {\n",
    "                \"rus_name\": {\n",
    "                  \"value\": '*' + 'багаты**',\n",
    "                  \"boost\": 1.0,\n",
    "                  \"rewrite\": \"constant_score\"\n",
    "                }\n",
    "              },\n",
    "            },\n",
    "            {\n",
    "              \"match\": {\n",
    "                \"rus_name\": {\n",
    "                  \"query\": \"багатырь\",\n",
    "                  \"operator\": 'or',\n",
    "                  \"fuzziness\": 'auto'\n",
    "                }\n",
    "              }\n",
    "            }\n",
    "          ]\n",
    "        }\n",
    "      }\n",
    "    }\n",
    ")\n",
    "q3['hits']"
   ]
  },
  {
   "cell_type": "code",
   "execution_count": 30,
   "metadata": {},
   "outputs": [
    {
     "name": "stderr",
     "output_type": "stream",
     "text": [
      "C:\\Users\\danil\\AppData\\Local\\Temp\\ipykernel_1960\\2544697107.py:1: DeprecationWarning: The 'body' parameter is deprecated and will be removed in a future version. Instead use individual parameters.\n",
      "  q4 = es.search(\n"
     ]
    },
    {
     "data": {
      "text/plain": [
       "{'total': {'value': 4, 'relation': 'eq'},\n",
       " 'max_score': 10.565941,\n",
       " 'hits': [{'_index': 'movies',\n",
       "   '_id': '432',\n",
       "   '_score': 10.565941,\n",
       "   '_source': {'link': 'https://www.kinopoisk.ru/film/276762/',\n",
       "    'eng_name': 'Harry Potter and the Deathly Hallows: Part 1',\n",
       "    'rus_name': 'Гарри Поттер и Дары Смерти: Часть I',\n",
       "    'year': 2010,\n",
       "    'duration': 146,\n",
       "    'country': 'Великобритания',\n",
       "    'genre': 'фэнтези',\n",
       "    'director_name': 'Дэвид Йейтс',\n",
       "    'rating': 7.9}},\n",
       "  {'_index': 'movies',\n",
       "   '_id': '601',\n",
       "   '_score': 10.565941,\n",
       "   '_source': {'link': 'https://www.kinopoisk.ru/film/407636/',\n",
       "    'eng_name': 'Harry Potter and the Deathly Hallows: Part 2',\n",
       "    'rus_name': 'Гарри Поттер и Дары Смерти: Часть II',\n",
       "    'year': 2011,\n",
       "    'duration': 130,\n",
       "    'country': 'Великобритания',\n",
       "    'genre': 'фэнтези',\n",
       "    'director_name': 'Дэвид Йейтс',\n",
       "    'rating': 8.1}},\n",
       "  {'_index': 'movies',\n",
       "   '_id': '79',\n",
       "   '_score': 4.866888,\n",
       "   '_source': {'link': 'https://www.kinopoisk.ru/film/1012421/',\n",
       "    'eng_name': 'Happy Death Day',\n",
       "    'rus_name': 'Счастливого дня смерти',\n",
       "    'year': 2017,\n",
       "    'duration': 201,\n",
       "    'country': 'США',\n",
       "    'genre': 'ужасы',\n",
       "    'director_name': 'Кристофер Лэндон',\n",
       "    'rating': -1.0}},\n",
       "  {'_index': 'movies',\n",
       "   '_id': '201',\n",
       "   '_score': 4.866888,\n",
       "   '_source': {'link': 'https://www.kinopoisk.ru/film/1103803/',\n",
       "    'eng_name': 'Death on the Nile',\n",
       "    'rus_name': 'Смерть на Ниле',\n",
       "    'year': 2020,\n",
       "    'duration': 127,\n",
       "    'country': 'США',\n",
       "    'genre': 'детектив',\n",
       "    'director_name': 'Кеннет Брана',\n",
       "    'rating': -1.0}}]}"
      ]
     },
     "execution_count": 30,
     "metadata": {},
     "output_type": "execute_result"
    }
   ],
   "source": [
    "q4 = es.search(\n",
    "    index =  'movies',\n",
    "    body = {\n",
    "      \"query\": {\n",
    "        \"match\": {\n",
    "          \"rus_name\": {\n",
    "              \"query\": \"подарки смерти\",\n",
    "          }\n",
    "        }\n",
    "      }\n",
    "    }\n",
    ")\n",
    "q4['hits']"
   ]
  },
  {
   "cell_type": "code",
   "execution_count": null,
   "metadata": {},
   "outputs": [],
   "source": [
    "# resp = es.search(\n",
    "#     index=\"movies\",\n",
    "#     body= {\n",
    "#         \"query\": {\n",
    "#             \"function_score\": {\n",
    "#                 \"query\": {\n",
    "#                     \"multi_match\": {\n",
    "#                         \"query\": 'богатырь',\n",
    "#                         \"fields\": [\n",
    "#                             \"eng_name\",\n",
    "#                             \"rus_name\",\n",
    "#                             \"country\",\n",
    "#                             \"genre\",\n",
    "#                             \"director_name\"\n",
    "#                         ],\n",
    "#                         \"type\" : \"cross_fields\",\n",
    "#                         \"analyzer\" : \"russian\",\n",
    "#                         \"prefix_length\" : \"3\"\n",
    "#                     },\n",
    "#                 },\n",
    "#                 \"functions\": [\n",
    "#                     {\n",
    "#                         \"script_score\": {\n",
    "#                             \"script\": {\n",
    "#                             \"source\": \"Math.log(2 + doc['my-int'].value)\"\n",
    "#                             }\n",
    "#                         }\n",
    "#                     }\n",
    "#                 ],\n",
    "#             }\n",
    "#         }\n",
    "#     }\n",
    "# )\n",
    "# resp['hits']"
   ]
  },
  {
   "cell_type": "code",
   "execution_count": null,
   "metadata": {},
   "outputs": [],
   "source": []
  }
 ],
 "metadata": {
  "kernelspec": {
   "display_name": "Python 3.10.8 ('.venv': venv)",
   "language": "python",
   "name": "python3"
  },
  "language_info": {
   "codemirror_mode": {
    "name": "ipython",
    "version": 3
   },
   "file_extension": ".py",
   "mimetype": "text/x-python",
   "name": "python",
   "nbconvert_exporter": "python",
   "pygments_lexer": "ipython3",
   "version": "3.10.8"
  },
  "orig_nbformat": 4,
  "vscode": {
   "interpreter": {
    "hash": "b5669233a181d17f0b6593895d2e2a3139b2007bab37ee6147a0bb413e985960"
   }
  }
 },
 "nbformat": 4,
 "nbformat_minor": 2
}
